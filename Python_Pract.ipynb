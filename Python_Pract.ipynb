{
 "cells": [
  {
   "cell_type": "markdown",
   "id": "cd6f3b3e-4a23-4bb4-ae2f-40c0ea170861",
   "metadata": {
    "jp-MarkdownHeadingCollapsed": true
   },
   "source": [
    "## Factorial"
   ]
  },
  {
   "cell_type": "code",
   "execution_count": 2,
   "id": "f792655e-ab63-4918-8377-de4ac9e4b9c9",
   "metadata": {},
   "outputs": [
    {
     "name": "stdout",
     "output_type": "stream",
     "text": [
      "Factorial of 5 is 120\n"
     ]
    }
   ],
   "source": [
    "\n",
    "def fact(n):\n",
    "    result = 1\n",
    "    for i in range(1, n+1):\n",
    "        result *= i\n",
    "    return result\n",
    "n = 5\n",
    "print(f\"Factorial of {n} is {fact(n)}\")\n",
    "\n",
    "\n"
   ]
  },
  {
   "cell_type": "code",
   "execution_count": 4,
   "id": "0d3c28cb-bbfc-4adc-b9a2-61a609dc86b5",
   "metadata": {},
   "outputs": [
    {
     "name": "stdout",
     "output_type": "stream",
     "text": [
      "Factorial of 5 is 120\n"
     ]
    }
   ],
   "source": [
    "#recursive\n",
    "def fact(n):\n",
    "    if n == 0 or n == 1:\n",
    "        return 1\n",
    "    else:\n",
    "        return n*fact(n-1)\n",
    "n = 5\n",
    "print(f\"Factorial of {n} is {fact(n)}\")\n"
   ]
  },
  {
   "cell_type": "markdown",
   "id": "5d7eca25-c689-44d4-bd7c-9c4af037b169",
   "metadata": {
    "jp-MarkdownHeadingCollapsed": true
   },
   "source": [
    "## Palindrome"
   ]
  },
  {
   "cell_type": "code",
   "execution_count": 7,
   "id": "6b95d92e-99a1-48fc-8b69-3d5941e13594",
   "metadata": {},
   "outputs": [
    {
     "name": "stdout",
     "output_type": "stream",
     "text": [
      "Not a pali\n"
     ]
    }
   ],
   "source": [
    "def pali(s):\n",
    "    return s == s[::-1]\n",
    "a = pali(\"Pushkaraj\")\n",
    "if a:\n",
    "    print(\"Palindrome\")\n",
    "else:\n",
    "    print(\"Not a pali\")"
   ]
  },
  {
   "cell_type": "markdown",
   "id": "8436d245-c9e7-4c3f-852b-00e16ed4c5b5",
   "metadata": {
    "jp-MarkdownHeadingCollapsed": true
   },
   "source": [
    "## Fibonacci"
   ]
  },
  {
   "cell_type": "code",
   "execution_count": 10,
   "id": "acd2a41e-8209-4e50-875a-524503ac2e5b",
   "metadata": {},
   "outputs": [
    {
     "name": "stdin",
     "output_type": "stream",
     "text": [
      "Enter the n:  10\n"
     ]
    },
    {
     "name": "stdout",
     "output_type": "stream",
     "text": [
      "0 1 1 2 3 5 8 13 21 34 "
     ]
    }
   ],
   "source": [
    "def fib(n):\n",
    "    if n == 0:\n",
    "        return 0\n",
    "    elif n == 1:\n",
    "        return 1\n",
    "    else:\n",
    "        return fib(n-1) + fib(n-2)\n",
    "n = int(input(\"Enter the n: \"))\n",
    "for i in range(n):\n",
    "    print(fib(i), end=\" \")"
   ]
  },
  {
   "cell_type": "markdown",
   "id": "9d1bdfec-d538-4ae4-8d1b-4f0a842944d3",
   "metadata": {
    "jp-MarkdownHeadingCollapsed": true
   },
   "source": [
    "## Prime_Numbers"
   ]
  },
  {
   "cell_type": "code",
   "execution_count": 13,
   "id": "2e0d0129-ff9a-4cdf-ab4b-f557821a72e7",
   "metadata": {},
   "outputs": [
    {
     "name": "stdin",
     "output_type": "stream",
     "text": [
      "Enter the number:  13\n"
     ]
    },
    {
     "name": "stdout",
     "output_type": "stream",
     "text": [
      "13 is a prime number\n"
     ]
    }
   ],
   "source": [
    "def is_prime(num):\n",
    "    if num <= 1:\n",
    "        return \"Not Prime\"\n",
    "    \n",
    "    for i in range(2, int(num ** 0.5)+1):\n",
    "        if num % i == 0:\n",
    "            return False\n",
    "        else:\n",
    "            return True\n",
    "x = int(input(\"Enter the number: \"))\n",
    "if is_prime(x):\n",
    "    print(f\"{x} is a prime number\")\n",
    "else:\n",
    "    print(f\"{x} is not prime number\")"
   ]
  },
  {
   "cell_type": "code",
   "execution_count": 15,
   "id": "e5333d94-ea55-4a34-a365-c9bc2a7a05e0",
   "metadata": {},
   "outputs": [
    {
     "name": "stdin",
     "output_type": "stream",
     "text": [
      "Enter the number:  15\n"
     ]
    },
    {
     "name": "stdout",
     "output_type": "stream",
     "text": [
      "15 is not prime number\n"
     ]
    }
   ],
   "source": [
    "##Recursive\n",
    "def is_prime(num, divisor = None):\n",
    "    if num <= 1:\n",
    "        return False\n",
    "    if divisor == None:\n",
    "        divisor = int(num ** 0.5)\n",
    "    if divisor < 2:\n",
    "        return True\n",
    "    if num % divisor == 0:\n",
    "        return False\n",
    "    \n",
    "    return is_prime(num, divisor - 1)\n",
    "x = int(input(\"Enter the number: \"))\n",
    "if is_prime(x):\n",
    "    print(f\"{x} is a prime number\")\n",
    "else:\n",
    "    print(f\"{x} is not prime number\")"
   ]
  },
  {
   "cell_type": "markdown",
   "id": "e1cd99b8-c2ec-48e9-8fff-3ebc9ff52c93",
   "metadata": {
    "jp-MarkdownHeadingCollapsed": true
   },
   "source": [
    "## String_compression"
   ]
  },
  {
   "cell_type": "code",
   "execution_count": 18,
   "id": "16fb6604-db15-4509-bf9f-c512cb3fb104",
   "metadata": {},
   "outputs": [
    {
     "name": "stdout",
     "output_type": "stream",
     "text": [
      "a2n3c2\n"
     ]
    }
   ],
   "source": [
    "def comp(s):\n",
    "    if not s:\n",
    "        return False\n",
    "    comp = []\n",
    "    count = 1\n",
    "    \n",
    "    for i in range(1, len(s)):\n",
    "        if s[i] == s[i-1]:\n",
    "            count += 1\n",
    "        else:\n",
    "            comp.append(s[i-1] + str(count))\n",
    "            count = 1\n",
    "    comp.append(s[-1] + str(count))\n",
    "    return \"\".join(comp)\n",
    "print(comp(\"aannncc\"))"
   ]
  },
  {
   "cell_type": "markdown",
   "id": "e4dc205b-0ec1-4e4e-a024-fe4dde9714ef",
   "metadata": {
    "jp-MarkdownHeadingCollapsed": true
   },
   "source": [
    "## Remove spcial characters from string\n"
   ]
  },
  {
   "cell_type": "code",
   "execution_count": 21,
   "id": "067f23d4-fc70-465b-8cc0-9ddaa6d60386",
   "metadata": {},
   "outputs": [
    {
     "name": "stdout",
     "output_type": "stream",
     "text": [
      "3iakdg34ljd\n"
     ]
    }
   ],
   "source": [
    "def check(s):\n",
    "    clean = \"\"\n",
    "    \n",
    "    for char in s:\n",
    "        if (65<= ord(char) <= 90) or (97<= ord(char)  <= 122) or (48<= ord(char) <= 57) or ord(char) == 32:\n",
    "            clean += char\n",
    "    return clean\n",
    "print(check(\"@3i/akdg34^*ljd;\"))"
   ]
  },
  {
   "cell_type": "markdown",
   "id": "50b355e3-6fff-4f40-830e-3a3b14fe62ae",
   "metadata": {},
   "source": [
    "## File_Handling"
   ]
  },
  {
   "cell_type": "code",
   "execution_count": 34,
   "id": "e23cece9-cb88-4e71-a5f9-cd4d26add7fc",
   "metadata": {},
   "outputs": [
    {
     "name": "stdout",
     "output_type": "stream",
     "text": [
      "Hello, My name is Pushkaraj !\n",
      "<class 'str'>\n"
     ]
    }
   ],
   "source": [
    "f = open(\"demo.txt\", \"r\")\n",
    "data = f.read()\n",
    "print(data)\n",
    "print(type(data))\n",
    "f.close()"
   ]
  },
  {
   "cell_type": "code",
   "execution_count": 44,
   "id": "3869cda4-e88d-4169-9bb0-2f80ce036f16",
   "metadata": {},
   "outputs": [
    {
     "data": {
      "text/plain": [
       "25"
      ]
     },
     "execution_count": 44,
     "metadata": {},
     "output_type": "execute_result"
    }
   ],
   "source": [
    "f = open(\"demo.txt\", \"w\")\n",
    "f.write(\"This line is added with w\")"
   ]
  },
  {
   "cell_type": "code",
   "execution_count": 48,
   "id": "58025724-68b9-41e5-8796-3839119c7147",
   "metadata": {},
   "outputs": [
    {
     "data": {
      "text/plain": [
       "29"
      ]
     },
     "execution_count": 48,
     "metadata": {},
     "output_type": "execute_result"
    }
   ],
   "source": [
    "f = open(\"demo.txt\", \"a\")\n",
    "f.write(\"\\nThis line is appended with a\")"
   ]
  },
  {
   "cell_type": "code",
   "execution_count": 52,
   "id": "688d9a6c-808b-4bcc-b3b3-6f31d12b46fb",
   "metadata": {},
   "outputs": [
    {
     "data": {
      "text/plain": [
       "67"
      ]
     },
     "execution_count": 52,
     "metadata": {},
     "output_type": "execute_result"
    }
   ],
   "source": [
    "#que\n",
    "f = open(\"sample.txt\", \"w\")\n",
    "f.write(\"Hi everyone\\nwe are learning file i/o\\nusing python\\ni like programing\")"
   ]
  },
  {
   "cell_type": "code",
   "execution_count": 54,
   "id": "359c6a32-a237-4481-9b67-550a44852641",
   "metadata": {},
   "outputs": [
    {
     "name": "stdout",
     "output_type": "stream",
     "text": [
      "Hi everyone\n",
      "we are learning file i/o\n",
      "using java\n",
      "i like programinging\n"
     ]
    }
   ],
   "source": [
    "#write a function to replace occurence of python with java in above file\n",
    "with open(\"sample.txt\", \"r\") as f:\n",
    "    data = f.read()\n",
    "new_data = data.replace(\"python\", \"java\")\n",
    "print(new_data)"
   ]
  },
  {
   "cell_type": "code",
   "execution_count": 56,
   "id": "1fcfc54a-d324-4c3e-a062-3d49e82cd90f",
   "metadata": {},
   "outputs": [],
   "source": [
    "with open(\"sample.txt\", \"w\") as f:\n",
    "    data = f.write(new_data)"
   ]
  },
  {
   "cell_type": "code",
   "execution_count": 64,
   "id": "ef848333-3a8d-4ff6-b223-0ef87f1b7088",
   "metadata": {},
   "outputs": [
    {
     "name": "stdout",
     "output_type": "stream",
     "text": [
      "Found\n"
     ]
    }
   ],
   "source": [
    "#search the word \"Learning\" exists in existing file or not\n",
    "word = \"learning\"\n",
    "with open(\"sample.txt\", \"r\") as f:\n",
    "    data = f.read()\n",
    "    if (data.find(word) != -1):\n",
    "        print(\"Found\")\n",
    "    else:\n",
    "        print(\"Not found\")\n",
    "    "
   ]
  },
  {
   "cell_type": "code",
   "execution_count": 76,
   "id": "071c053e-ff6b-4889-b915-299394564b0e",
   "metadata": {},
   "outputs": [],
   "source": [
    "#write a function in which line of file does the learning word occur first\n",
    "def check_for_line():\n",
    "    word = \"learning\"\n",
    "    data = True\n",
    "    count = 1\n",
    "    with open(\"sample.txt\", \"r\") as f:\n",
    "        while data:\n",
    "            data = f.readline()\n",
    "            if (word in data):\n",
    "                print(count)\n",
    "                return\n",
    "            count += 1\n",
    "    return -1"
   ]
  },
  {
   "cell_type": "code",
   "execution_count": 78,
   "id": "8f7f2ddc-00df-42b1-b034-35076f2a1f6d",
   "metadata": {},
   "outputs": [
    {
     "name": "stdout",
     "output_type": "stream",
     "text": [
      "2\n"
     ]
    }
   ],
   "source": [
    "check_for_line()"
   ]
  },
  {
   "cell_type": "markdown",
   "id": "48c1ccbf-1baa-4ee5-8f64-819f9848638d",
   "metadata": {},
   "source": [
    "## Remove Punctuations "
   ]
  },
  {
   "cell_type": "code",
   "execution_count": 81,
   "id": "23294554-3e11-44fb-b52d-5a1d9c65d20e",
   "metadata": {},
   "outputs": [
    {
     "name": "stdin",
     "output_type": "stream",
     "text": [
      "Enter the string here:  visu@$vsivg!#$%\n"
     ]
    },
    {
     "name": "stdout",
     "output_type": "stream",
     "text": [
      "visuvsivg\n"
     ]
    }
   ],
   "source": [
    "punch = '''!@#$%^&*()_-=+{}[]:;'\"<>?/,.'''\n",
    "string = input(\"Enter the string here: \")\n",
    "empty_str = \"\"\n",
    "\n",
    "for i in string:\n",
    "    if i not in punch:\n",
    "        empty_str += i\n",
    "print(empty_str)"
   ]
  },
  {
   "cell_type": "markdown",
   "id": "9fa62005-11f1-4016-9a30-c43fdd6311ec",
   "metadata": {},
   "source": [
    "## Remove duplicates from array"
   ]
  },
  {
   "cell_type": "code",
   "execution_count": 84,
   "id": "0039af93-7aaa-489d-91a7-d1cb5bd3ba86",
   "metadata": {},
   "outputs": [
    {
     "name": "stdout",
     "output_type": "stream",
     "text": [
      "Duplicates in array are: [1, 2, 3, 67, 4]\n"
     ]
    }
   ],
   "source": [
    "def dupli(arr):\n",
    "    seen = set()\n",
    "    dupli = set()\n",
    "    \n",
    "    for num in arr:\n",
    "        if num in seen:\n",
    "            dupli.add(num)\n",
    "        else:\n",
    "            seen.add(num)\n",
    "    return list(dupli)\n",
    "array = [1,2,3,4,565,34,5,2,65,67,67,87, 1, 3, 4]\n",
    "print(f\"Duplicates in array are: {dupli(array)}\")"
   ]
  },
  {
   "cell_type": "code",
   "execution_count": 86,
   "id": "9ed7322a-6e13-4085-8dee-54eb9eec11d0",
   "metadata": {},
   "outputs": [
    {
     "name": "stdout",
     "output_type": "stream",
     "text": [
      "Leaf 2:\n"
     ]
    },
    {
     "ename": "TypeError",
     "evalue": "list indices must be integers or slices, not tuple",
     "output_type": "error",
     "traceback": [
      "\u001b[1;31m---------------------------------------------------------------------------\u001b[0m",
      "\u001b[1;31mTypeError\u001b[0m                                 Traceback (most recent call last)",
      "Cell \u001b[1;32mIn[86], line 19\u001b[0m\n\u001b[0;32m     17\u001b[0m \u001b[38;5;28;01mfor\u001b[39;00m leaf \u001b[38;5;129;01min\u001b[39;00m unique_leaves:\n\u001b[0;32m     18\u001b[0m     \u001b[38;5;28mprint\u001b[39m(\u001b[38;5;124mf\u001b[39m\u001b[38;5;124m\"\u001b[39m\u001b[38;5;124mLeaf \u001b[39m\u001b[38;5;132;01m{\u001b[39;00mleaf\u001b[38;5;132;01m}\u001b[39;00m\u001b[38;5;124m:\u001b[39m\u001b[38;5;124m\"\u001b[39m)\n\u001b[1;32m---> 19\u001b[0m     \u001b[38;5;28mprint\u001b[39m(\u001b[38;5;124mf\u001b[39m\u001b[38;5;124m\"\u001b[39m\u001b[38;5;124mSamples: \u001b[39m\u001b[38;5;132;01m{\u001b[39;00mX[np\u001b[38;5;241m.\u001b[39mwhere(leaf_indices\u001b[38;5;250m \u001b[39m\u001b[38;5;241m==\u001b[39m\u001b[38;5;250m \u001b[39mleaf)]\u001b[38;5;132;01m}\u001b[39;00m\u001b[38;5;124m\"\u001b[39m)\n\u001b[0;32m     20\u001b[0m     \u001b[38;5;28mprint\u001b[39m(\u001b[38;5;124mf\u001b[39m\u001b[38;5;124m\"\u001b[39m\u001b[38;5;124mTarget values: \u001b[39m\u001b[38;5;132;01m{\u001b[39;00my[np\u001b[38;5;241m.\u001b[39mwhere(leaf_indices\u001b[38;5;250m \u001b[39m\u001b[38;5;241m==\u001b[39m\u001b[38;5;250m \u001b[39mleaf)]\u001b[38;5;132;01m}\u001b[39;00m\u001b[38;5;124m\"\u001b[39m)\n",
      "\u001b[1;31mTypeError\u001b[0m: list indices must be integers or slices, not tuple"
     ]
    }
   ],
   "source": [
    "from sklearn.tree import DecisionTreeRegressor\n",
    "import numpy as np\n",
    "\n",
    "# Example data\n",
    "X = [[1], [2], [3], [4], [5]]\n",
    "y = [150, 200, 250, 300, 350]\n",
    "\n",
    "# Train model\n",
    "model = DecisionTreeRegressor(max_depth=2)\n",
    "model.fit(X, y)\n",
    "\n",
    "# Get leaf nodes\n",
    "leaf_indices = model.apply(X)  # Leaf index for each sample\n",
    "unique_leaves = np.unique(leaf_indices)\n",
    "\n",
    "# Inspect values in each leaf\n",
    "for leaf in unique_leaves:\n",
    "    print(f\"Leaf {leaf}:\")\n",
    "    print(f\"Samples: {X[np.where(leaf_indices == leaf)]}\")\n",
    "    print(f\"Target values: {y[np.where(leaf_indices == leaf)]}\")\n"
   ]
  },
  {
   "cell_type": "code",
   "execution_count": null,
   "id": "f27f4997-5386-4234-91a4-32b375ea0749",
   "metadata": {},
   "outputs": [],
   "source": []
  }
 ],
 "metadata": {
  "kernelspec": {
   "display_name": "Python 3 (ipykernel)",
   "language": "python",
   "name": "python3"
  },
  "language_info": {
   "codemirror_mode": {
    "name": "ipython",
    "version": 3
   },
   "file_extension": ".py",
   "mimetype": "text/x-python",
   "name": "python",
   "nbconvert_exporter": "python",
   "pygments_lexer": "ipython3",
   "version": "3.11.7"
  }
 },
 "nbformat": 4,
 "nbformat_minor": 5
}
