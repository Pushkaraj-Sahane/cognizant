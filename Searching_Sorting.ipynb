{
 "cells": [
  {
   "cell_type": "markdown",
   "id": "92a5acc4-658a-4e12-9659-baa339715e2b",
   "metadata": {
    "jp-MarkdownHeadingCollapsed": true
   },
   "source": [
    "## Linear_Search"
   ]
  },
  {
   "cell_type": "code",
   "execution_count": null,
   "id": "94521802-1171-417d-9523-e8904cb0bfb8",
   "metadata": {},
   "outputs": [],
   "source": [
    "def linear(arr, key):\n",
    "    for index in range(len(arr)):\n",
    "        if arr[index] == key:\n",
    "            return index\n",
    "        \n",
    "    return -1\n",
    "\n",
    "arr = [1,2,3,6,87,4,67,34,56,99,12,34,67,76,23]\n",
    "key = 34\n",
    "#arr = list(map(int, input(\"Enter no. seperated by spaces: \").split()))\n",
    "#key = int(input(\"Enter the key: \"))\n",
    "result = linear(arr,key)\n",
    "\n",
    "if result != -1:\n",
    "    print(f\"Key found at: {result} position\")\n",
    "else:\n",
    "    print(\"Key not found\")"
   ]
  },
  {
   "cell_type": "code",
   "execution_count": null,
   "id": "d6cff2ac-0ec4-41d2-812b-1c9dfa24f151",
   "metadata": {},
   "outputs": [],
   "source": []
  },
  {
   "cell_type": "markdown",
   "id": "19fc530d-74bc-45ee-b5f8-7ccb422b13a2",
   "metadata": {},
   "source": [
    "## Binary_Search"
   ]
  },
  {
   "cell_type": "code",
   "execution_count": null,
   "id": "5385ac65-695a-44df-b9b9-0cb59ebb6892",
   "metadata": {},
   "outputs": [],
   "source": [
    "def bin_search(array, low, high, key):\n",
    "    if high >= low:\n",
    "        mid = (low + high)//2\n",
    "        \n",
    "        if array[mid] == key:\n",
    "            return mid\n",
    "            \n",
    "        elif array[mid] > key:\n",
    "            return bin_search(array, low, mid - 1, key)\n",
    "                \n",
    "        else:\n",
    "            return bin_search(array, mid + 1, high, key)\n",
    "            \n",
    "    else:\n",
    "        return -1\n",
    "\n",
    "array = list(map(int, input(\"Enter the number by spaces: \").split()))\n",
    "print(f\"the sorted array is {array}\")\n",
    "\n",
    "\n",
    "while True:\n",
    "    key = int(input(\"Enter the key to be searched: \"))\n",
    "    result = bin_search(array, 0, len(array) - 1, key)\n",
    "    if result == -1:\n",
    "        print(\"Element not found\")\n",
    "    else:\n",
    "        print(f\"Element fount at {result} position\")\n",
    "        \n",
    "    another_search = input(\"Do you want to search another key:(yes/no) \").strip().lower()\n",
    "    if another_search != \"yes\":\n",
    "        print(\"Binary search program terminated\")\n",
    "        break"
   ]
  },
  {
   "cell_type": "markdown",
   "id": "efac1141-5b53-4e95-8236-c977cb7b2451",
   "metadata": {
    "jp-MarkdownHeadingCollapsed": true
   },
   "source": [
    "## Merge_Sort"
   ]
  },
  {
   "cell_type": "code",
   "execution_count": 4,
   "id": "8e018be7-d576-4bf6-b24e-aeaa9e786b65",
   "metadata": {},
   "outputs": [
    {
     "name": "stdin",
     "output_type": "stream",
     "text": [
      "Enter the arr seperated by spaces:  1 4 6 3 2 99 56 34\n"
     ]
    },
    {
     "name": "stdout",
     "output_type": "stream",
     "text": [
      "Orignal array is: [1, 4, 6, 3, 2, 99, 56, 34]\n",
      "Sorted array is: [1, 2, 3, 4, 6, 34, 56, 99]\n"
     ]
    }
   ],
   "source": [
    "def sort(arr):\n",
    "    if len(arr) <  1 or len(arr) == 1:\n",
    "        return arr\n",
    "    \n",
    "    mid = len(arr) // 2\n",
    "    \n",
    "    left_arr = sort(arr[:mid])\n",
    "    right_arr = sort(arr[mid:])\n",
    "    \n",
    "    return merge(left_arr, right_arr)\n",
    "    \n",
    "def merge(left, right):\n",
    "    sorted_arr = []\n",
    "    i = j = 0\n",
    "    \n",
    "    while i < len(left) and j < len(right):\n",
    "        if left[i] < right[j]:\n",
    "            sorted_arr.append(left[i])\n",
    "            i += 1\n",
    "        else:\n",
    "            sorted_arr.append(right[j])\n",
    "            j += 1\n",
    "    \n",
    "    sorted_arr.extend(left[i:])\n",
    "    sorted_arr.extend(right[j:])\n",
    "    \n",
    "    return sorted_arr\n",
    "    \n",
    "arr = list(map(int, input(\"Enter the arr seperated by spaces: \").split()))\n",
    "print(f\"Orignal array is: {arr}\")\n",
    "result = sort(arr)\n",
    "print(f\"Sorted array is: {result}\") "
   ]
  },
  {
   "cell_type": "markdown",
   "id": "05f3ec67-e5b9-4a5e-ba54-b84409dc05d5",
   "metadata": {
    "jp-MarkdownHeadingCollapsed": true
   },
   "source": [
    "## Bubble_Sort"
   ]
  },
  {
   "cell_type": "code",
   "execution_count": null,
   "id": "2b3ecec1-5ef8-46b6-9b0e-9eab8652a9bf",
   "metadata": {},
   "outputs": [],
   "source": [
    "def bubble_sort(arr):\n",
    "    n = len(arr)\n",
    "    \n",
    "    # Traverse through all array elements\n",
    "    for i in range(n):\n",
    "        # Last i elements are already sorted\n",
    "        for j in range(0, n - i - 1):\n",
    "            # Swap if the element found is greater than the next element\n",
    "            if arr[j] > arr[j + 1]:\n",
    "                arr[j], arr[j + 1] = arr[j + 1], arr[j]\n",
    "\n",
    "# Example usage\n",
    "arr = [64, 34, 25, 12, 22, 11, 90]\n",
    "print(\"Original array:\", arr)\n",
    "\n",
    "bubble_sort(arr)\n",
    "print(\"Sorted array:\", arr)\n"
   ]
  },
  {
   "cell_type": "markdown",
   "id": "306832b4-7a5b-4122-a5d9-619f56d321b1",
   "metadata": {
    "jp-MarkdownHeadingCollapsed": true
   },
   "source": [
    "## Selection_Sort"
   ]
  },
  {
   "cell_type": "code",
   "execution_count": null,
   "id": "49fb04de-68f4-44eb-8565-328b96b386fc",
   "metadata": {},
   "outputs": [],
   "source": [
    "def selection_sort(arr):\n",
    "    n = len(arr)\n",
    "    \n",
    "    # Traverse through all array elements\n",
    "    for i in range(n):\n",
    "        # Find the minimum element in the unsorted portion of the array\n",
    "        min_index = i\n",
    "        for j in range(i + 1, n):\n",
    "            if arr[j] < arr[min_index]:\n",
    "                min_index = j\n",
    "        \n",
    "        # Swap the found minimum element with the first element of the unsorted portion\n",
    "        arr[i], arr[min_index] = arr[min_index], arr[i]\n",
    "\n",
    "# Example usage\n",
    "arr = [64, 25, 12, 22, 11]\n",
    "print(\"Original array:\", arr)\n",
    "\n",
    "selection_sort(arr)\n",
    "print(\"Sorted array:\", arr)\n"
   ]
  },
  {
   "cell_type": "markdown",
   "id": "81952646-7023-46cd-8905-0a329f4fa6dc",
   "metadata": {
    "jp-MarkdownHeadingCollapsed": true
   },
   "source": [
    "## Quick_Sort"
   ]
  },
  {
   "cell_type": "code",
   "execution_count": null,
   "id": "50a283fc-a8ea-4ace-8025-94aa9ef47eb2",
   "metadata": {},
   "outputs": [],
   "source": [
    "def quick_sort(arr):\n",
    "    # Base case: If the array has 0 or 1 element, it's already sorted\n",
    "    if len(arr) <= 1:\n",
    "        return arr\n",
    "    \n",
    "    # Choose the pivot (last element)\n",
    "    pivot = arr[-1]\n",
    "    \n",
    "    # Create empty lists for left and right partitions\n",
    "    left = []\n",
    "    right = []\n",
    "    \n",
    "    # Partition the array into left and right sub-arrays\n",
    "    for x in arr[:-1]:  # Iterate over all elements except the pivot\n",
    "        if x <= pivot:\n",
    "            left.append(x)\n",
    "        else:\n",
    "            right.append(x)\n",
    "    \n",
    "    # Recursively sort the left and right sub-arrays, and concatenate the results with the pivot\n",
    "    return quick_sort(left) + [pivot] + quick_sort(right)\n",
    "\n",
    "# Example usage\n",
    "arr = [10, 80, 30, 90, 40, 50, 70]\n",
    "print(\"Original array:\", arr)\n",
    "\n",
    "sorted_arr = quick_sort(arr)\n",
    "print(\"Sorted array:\", sorted_arr)\n"
   ]
  }
 ],
 "metadata": {
  "kernelspec": {
   "display_name": "Python 3 (ipykernel)",
   "language": "python",
   "name": "python3"
  },
  "language_info": {
   "codemirror_mode": {
    "name": "ipython",
    "version": 3
   },
   "file_extension": ".py",
   "mimetype": "text/x-python",
   "name": "python",
   "nbconvert_exporter": "python",
   "pygments_lexer": "ipython3",
   "version": "3.11.7"
  }
 },
 "nbformat": 4,
 "nbformat_minor": 5
}
