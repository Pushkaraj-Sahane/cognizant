{
 "cells": [
  {
   "cell_type": "markdown",
   "id": "19fe7660-e54c-424b-83e8-5759048f9574",
   "metadata": {
    "jp-MarkdownHeadingCollapsed": true
   },
   "source": [
    "## Linked List"
   ]
  },
  {
   "cell_type": "code",
   "execution_count": null,
   "id": "36cc6ab6-a4aa-48b7-9bf6-aadd968347db",
   "metadata": {},
   "outputs": [],
   "source": [
    "#creatig a node"
   ]
  },
  {
   "cell_type": "code",
   "execution_count": 2,
   "id": "b29d96f2-6ed3-442e-b44f-bb1292633776",
   "metadata": {},
   "outputs": [],
   "source": [
    "class Node:\n",
    "    def __init__(self,value):\n",
    "        self.data = value\n",
    "        self.next = None"
   ]
  },
  {
   "cell_type": "code",
   "execution_count": 4,
   "id": "0ac4cb0c-e8b4-48bd-8b9d-d9d1422d3726",
   "metadata": {},
   "outputs": [],
   "source": [
    "a = Node(1)"
   ]
  },
  {
   "cell_type": "code",
   "execution_count": 8,
   "id": "87c86fb4-c672-4100-8450-cff66d0d65ee",
   "metadata": {},
   "outputs": [
    {
     "name": "stdout",
     "output_type": "stream",
     "text": [
      "1\n"
     ]
    }
   ],
   "source": [
    "print(a.data)"
   ]
  },
  {
   "cell_type": "code",
   "execution_count": 16,
   "id": "3b091eac-ba71-44db-8530-6dfb7fc925a8",
   "metadata": {},
   "outputs": [
    {
     "data": {
      "text/plain": [
       "2170365167376"
      ]
     },
     "execution_count": 16,
     "metadata": {},
     "output_type": "execute_result"
    }
   ],
   "source": [
    "id(b)"
   ]
  },
  {
   "cell_type": "code",
   "execution_count": 12,
   "id": "5048b010-8d18-4587-8624-87055f97df90",
   "metadata": {},
   "outputs": [],
   "source": [
    "b = Node(2)\n",
    "c = Node(3)"
   ]
  },
  {
   "cell_type": "code",
   "execution_count": 14,
   "id": "0c7d3197-4b90-4359-aad2-03834f06a6e4",
   "metadata": {},
   "outputs": [],
   "source": [
    "a.next = b\n",
    "b.next = c"
   ]
  },
  {
   "cell_type": "code",
   "execution_count": 18,
   "id": "a3323ce6-310a-4346-81ff-3b77b822078a",
   "metadata": {},
   "outputs": [
    {
     "name": "stdout",
     "output_type": "stream",
     "text": [
      "<__main__.Node object at 0x000001F953D84710>\n"
     ]
    }
   ],
   "source": [
    "print(a.next)"
   ]
  },
  {
   "cell_type": "code",
   "execution_count": 20,
   "id": "da78f2e7-6cae-4734-9e5d-8de39313ab6a",
   "metadata": {},
   "outputs": [
    {
     "data": {
      "text/plain": [
       "2170365167376"
      ]
     },
     "execution_count": 20,
     "metadata": {},
     "output_type": "execute_result"
    }
   ],
   "source": [
    "int(0x000001F953D84710)"
   ]
  },
  {
   "cell_type": "code",
   "execution_count": null,
   "id": "6be14030-24d3-4ca8-95a0-6aea4d3cdfdd",
   "metadata": {},
   "outputs": [],
   "source": []
  },
  {
   "cell_type": "code",
   "execution_count": 24,
   "id": "2d12c532-c6d3-4831-aee2-a9c39a7f67e2",
   "metadata": {},
   "outputs": [],
   "source": [
    "#creating a linked list\n"
   ]
  },
  {
   "cell_type": "code",
   "execution_count": 595,
   "id": "a67a009f-e623-4f2d-bb51-73023e33ecca",
   "metadata": {},
   "outputs": [],
   "source": [
    "class linkedlist:\n",
    "    def __init__(self):\n",
    "        self.head = None #empty linked list\n",
    "        self.n = 0 #n is number of nodes in LL\n",
    "\n",
    "    #lenghth of LL is no of nodes and we will write magic method to retrivr lenghth using .len()\n",
    "    def __len__(self):\n",
    "        return self.n\n",
    "        \n",
    "    #Insertion Operation\n",
    "    #1]function to insert new node through head\n",
    "    def insert_head(self,value):\n",
    "        new_node = Node(value) #create new node to be inserted\n",
    "        new_node.next = self.head #creating link\n",
    "        self.head = new_node #assigning new head\n",
    "        self.n = self.n + 1 #increment n count\n",
    "\n",
    "    #traversig the list\n",
    "    '''\n",
    "    def traverse(self):\n",
    "        curr = self.head #mark the current node\n",
    "\n",
    "        while curr != None:\n",
    "            print(curr.data, end=\" \")\n",
    "            curr = curr.next\n",
    "    '''\n",
    "\n",
    "    '''Using the __str__ Method: This approach overrides Python's string representation method. \n",
    "    When you call print(L) (or even str(L)), Python automatically calls the __str__ method of your object.'''\n",
    "    def __str__(self):\n",
    "        curr = self.head\n",
    "        result = \"\"\n",
    "        while curr != None:\n",
    "            result  = result + str(curr.data) + \"->\"\n",
    "            curr = curr.next\n",
    "        return result[:-2]\n",
    "\n",
    "    #2]Insertion through tail that also called as appending 1)traverse till tail, 2) change the tail.next\n",
    "    #if u want to reach end of LL then logic is: while current != None\n",
    "    #if u want to reach last of node of LL then logic is: while current.next != None\n",
    "    #but this code will not work on empty list as there is no none in empty list thus will check condition for empty list\n",
    "    def append(self, value):\n",
    "        new_node = Node(value)\n",
    "\n",
    "        if self.head == None: #to check if list is empty\n",
    "            self.head = new_node\n",
    "            self.n = self.n+1\n",
    "            return\n",
    "        curr = self.head\n",
    "        while curr.next != None:\n",
    "            curr = curr.next\n",
    "        #when while loop end i.e u r at last node\n",
    "        curr.next = new_node\n",
    "\n",
    "\n",
    "    #3]insert in between or after\n",
    "    def insert_after(self, after, value):\n",
    "        new_node = Node(value)\n",
    "        curr = self.head\n",
    "\n",
    "        while curr != None:\n",
    "            if curr.data == after:\n",
    "                break\n",
    "            curr = curr.next\n",
    "\n",
    "        #case1: u will exit loop either because u hit break statement that means you found the node with after value\n",
    "        if curr != None:\n",
    "            new_node.next = curr.next\n",
    "            curr.next = new_node\n",
    "            self.n = self.n + 1\n",
    "            \n",
    "        #case2: eiter u will exit the loop because u didnt found the node with after value, i.e node is node present in list\n",
    "        else:\n",
    "            return \"item not found\"\n",
    "\n",
    "    #deletion\n",
    "    #1]to clear or empty the linked list\n",
    "    def clear(self):\n",
    "        self.head = None\n",
    "        self.n = 0\n",
    "\n",
    "    #2]deleteing node from head\n",
    "    def delete_head(self):\n",
    "        if self.head == None:  #that means if list is empty\n",
    "            return \"Empty list\"\n",
    "        self.head = self.head.next\n",
    "        self.n = self.n - 1\n",
    "\n",
    "    #3]Deleting element from tail i.e pop operation\n",
    "    def pop(self):\n",
    "        if self.head == None: #to check if there exist no node\n",
    "            return \"Empty list\"\n",
    "        curr = self.head\n",
    "        if curr.next == None: #to chrck if LL consist only one element\n",
    "            #if there is just head in LL the this case of deleting from head which we have already defined above\n",
    "            return self.delete_head()\n",
    "        while curr.next.next != None:  #curr.next.next gives u second last element\n",
    "            curr = curr.next\n",
    "        #when loop ends curr will indiacte 2nd last element of LL\n",
    "        curr.next = None\n",
    "        self.n = self.n - 1\n",
    "        \n",
    "    #4]deleting by value\n",
    "    def remove(self, value):\n",
    "        if self.head == None:   #to check if list is empty\n",
    "            return \"List is empty\"\n",
    "        #if the element to be found is head, and by our logic we stop at one node before the node to be deleted then we have to add a condition\n",
    "        if self.head.data == value:\n",
    "            return self.delete_head()\n",
    "        curr = self.head\n",
    "        while curr.next != None:\n",
    "            if curr.next.data == value:\n",
    "                break\n",
    "            curr = curr.next\n",
    "        #case1: ur item is not present in list and we,re now on last node\n",
    "        if curr.next == None:\n",
    "            return \"Item not found\"\n",
    "        else:\n",
    "            curr.next = curr.next.next  #case2: u have came out of loop and u got the item\n",
    "\n",
    "    #Searching\n",
    "    #1]searching by value\n",
    "    def search(self, value):\n",
    "        curr = self.head\n",
    "        pos = 0\n",
    "        while curr != None:\n",
    "            if curr.data == value:\n",
    "                return pos\n",
    "            curr = curr.next\n",
    "            pos = pos + 1\n",
    "        return \"Not found\"\n",
    "        \n",
    "    #2]Searching data by index: for that we will use a magic method/dunder fuction called as __getitem__()\n",
    "    def __getitem__(self, index):\n",
    "        curr = self.head\n",
    "        pos = 0\n",
    "        while curr != None:\n",
    "            if pos == index:\n",
    "                return curr.data\n",
    "            curr = curr.next\n",
    "            pos = pos + 1\n",
    "        return \"Not Found\"\n",
    "        \n",
    "    #Que: Replace maximum value of LL with given value\n",
    "    def replace_max(self, value):\n",
    "        temp = self.head\n",
    "        max = temp\n",
    "        while temp != None:\n",
    "            if temp.data > max.data:\n",
    "                max = temp\n",
    "            temp = temp.next\n",
    "        max.data = value\n",
    "\n",
    "    #Que: Function to return sum of items at odd indexes\n",
    "    def sum_odd(self):\n",
    "        temp = self.head\n",
    "        counter = 0\n",
    "        result = 0\n",
    "        while temp != None:\n",
    "            if counter % 2 != 0:\n",
    "                result += temp.data\n",
    "            counter += 1\n",
    "            temp = temp.next\n",
    "        print(result)\n",
    "        "
   ]
  },
  {
   "cell_type": "code",
   "execution_count": 597,
   "id": "752409a3-fb91-4681-9f35-c001f0eab106",
   "metadata": {},
   "outputs": [],
   "source": [
    "L = linkedlist()"
   ]
  },
  {
   "cell_type": "code",
   "execution_count": 599,
   "id": "090c254c-255f-453b-9332-b4973fb08e9b",
   "metadata": {},
   "outputs": [],
   "source": [
    "L.insert_head(1)\n",
    "L.insert_head(2)\n",
    "L.insert_head(3)\n",
    "L.insert_head(4)"
   ]
  },
  {
   "cell_type": "code",
   "execution_count": 601,
   "id": "3c1944c5-f562-4690-a4f2-789cc34edfd6",
   "metadata": {},
   "outputs": [
    {
     "data": {
      "text/plain": [
       "4"
      ]
     },
     "execution_count": 601,
     "metadata": {},
     "output_type": "execute_result"
    }
   ],
   "source": [
    "len(L)"
   ]
  },
  {
   "cell_type": "code",
   "execution_count": 603,
   "id": "795cb612-a74c-4d65-a491-212b49926e58",
   "metadata": {},
   "outputs": [],
   "source": [
    "L.append(5)"
   ]
  },
  {
   "cell_type": "code",
   "execution_count": 605,
   "id": "930c39c7-7204-413e-a8ac-0d256b1af31e",
   "metadata": {},
   "outputs": [
    {
     "name": "stdout",
     "output_type": "stream",
     "text": [
      "4->3->2->1->5\n"
     ]
    }
   ],
   "source": [
    "print(L)"
   ]
  },
  {
   "cell_type": "code",
   "execution_count": 545,
   "id": "cb7a195d-a620-40ff-8712-371599732609",
   "metadata": {},
   "outputs": [],
   "source": [
    "A = linkedlist()"
   ]
  },
  {
   "cell_type": "code",
   "execution_count": 547,
   "id": "96f13f2d-3951-47a0-93dc-0068418f241c",
   "metadata": {},
   "outputs": [
    {
     "name": "stdout",
     "output_type": "stream",
     "text": [
      "\n"
     ]
    }
   ],
   "source": [
    "print(A)"
   ]
  },
  {
   "cell_type": "code",
   "execution_count": 179,
   "id": "5be51ac0-f378-40d9-aa08-fff14dd208de",
   "metadata": {},
   "outputs": [],
   "source": [
    "A.append(23)"
   ]
  },
  {
   "cell_type": "code",
   "execution_count": 181,
   "id": "a712cbb2-d98a-454b-93c0-b65264533da5",
   "metadata": {},
   "outputs": [
    {
     "name": "stdout",
     "output_type": "stream",
     "text": [
      "23\n"
     ]
    }
   ],
   "source": [
    "print(A)"
   ]
  },
  {
   "cell_type": "code",
   "execution_count": 247,
   "id": "f247bd99-61d2-4306-a236-e9acd91af9df",
   "metadata": {},
   "outputs": [],
   "source": [
    "L.insert_after(2, 7)"
   ]
  },
  {
   "cell_type": "code",
   "execution_count": 249,
   "id": "e1f2cb19-8801-4154-b8f1-1940575bdfaf",
   "metadata": {},
   "outputs": [
    {
     "name": "stdout",
     "output_type": "stream",
     "text": [
      "4->3->2->7->1->5\n"
     ]
    }
   ],
   "source": [
    "print(L)"
   ]
  },
  {
   "cell_type": "code",
   "execution_count": 251,
   "id": "4732ea54-5826-4547-8ca8-03fe9b6290e3",
   "metadata": {},
   "outputs": [
    {
     "data": {
      "text/plain": [
       "'item not found'"
      ]
     },
     "execution_count": 251,
     "metadata": {},
     "output_type": "execute_result"
    }
   ],
   "source": [
    "L.insert_after(20, 7)"
   ]
  },
  {
   "cell_type": "code",
   "execution_count": 336,
   "id": "f8032a60-d2c1-4695-b80d-be070b3f2cdb",
   "metadata": {},
   "outputs": [
    {
     "data": {
      "text/plain": [
       "'Empty list'"
      ]
     },
     "execution_count": 336,
     "metadata": {},
     "output_type": "execute_result"
    }
   ],
   "source": [
    "L.delete_head()"
   ]
  },
  {
   "cell_type": "code",
   "execution_count": 334,
   "id": "d8b37610-de6d-48a9-9ddb-537328d92ebb",
   "metadata": {},
   "outputs": [
    {
     "name": "stdout",
     "output_type": "stream",
     "text": [
      "\n"
     ]
    }
   ],
   "source": [
    "print(L)"
   ]
  },
  {
   "cell_type": "code",
   "execution_count": 382,
   "id": "32c1f922-4598-481c-9a19-633f8ffdd0a3",
   "metadata": {},
   "outputs": [
    {
     "name": "stdout",
     "output_type": "stream",
     "text": [
      "4->3->2->1->5\n"
     ]
    }
   ],
   "source": [
    "print(L)"
   ]
  },
  {
   "cell_type": "code",
   "execution_count": 404,
   "id": "400c6065-1fd6-49a4-93a6-164bbd650f45",
   "metadata": {},
   "outputs": [
    {
     "data": {
      "text/plain": [
       "'Empty list'"
      ]
     },
     "execution_count": 404,
     "metadata": {},
     "output_type": "execute_result"
    }
   ],
   "source": [
    "L.pop()"
   ]
  },
  {
   "cell_type": "code",
   "execution_count": 448,
   "id": "356b0351-bdc4-4e4f-821d-74f56352b261",
   "metadata": {},
   "outputs": [
    {
     "data": {
      "text/plain": [
       "'List is empty'"
      ]
     },
     "execution_count": 448,
     "metadata": {},
     "output_type": "execute_result"
    }
   ],
   "source": [
    "L.remove(5)"
   ]
  },
  {
   "cell_type": "code",
   "execution_count": 468,
   "id": "8b58c2f1-2d14-4915-9ed7-d199aaecaed5",
   "metadata": {},
   "outputs": [
    {
     "data": {
      "text/plain": [
       "4"
      ]
     },
     "execution_count": 468,
     "metadata": {},
     "output_type": "execute_result"
    }
   ],
   "source": [
    "L.search(5)"
   ]
  },
  {
   "cell_type": "code",
   "execution_count": 589,
   "id": "c73050e3-ecbb-440a-b6bc-dc024213a7ba",
   "metadata": {},
   "outputs": [
    {
     "name": "stdout",
     "output_type": "stream",
     "text": [
      "4->3->2->1->5\n"
     ]
    }
   ],
   "source": [
    "print(L)"
   ]
  },
  {
   "cell_type": "code",
   "execution_count": 512,
   "id": "60004224-7086-4399-b7a9-e195531353cc",
   "metadata": {},
   "outputs": [
    {
     "data": {
      "text/plain": [
       "'Not Found'"
      ]
     },
     "execution_count": 512,
     "metadata": {},
     "output_type": "execute_result"
    }
   ],
   "source": [
    "L.__getitem__(6)"
   ]
  },
  {
   "cell_type": "code",
   "execution_count": 591,
   "id": "05be3209-3a0e-4564-9bb9-144ca80db919",
   "metadata": {},
   "outputs": [],
   "source": [
    "L.replace_max(16)"
   ]
  },
  {
   "cell_type": "code",
   "execution_count": 607,
   "id": "836d83aa-be29-469f-b0e8-35a4f10d96fa",
   "metadata": {},
   "outputs": [
    {
     "name": "stdout",
     "output_type": "stream",
     "text": [
      "4->3->2->1->5\n"
     ]
    }
   ],
   "source": [
    "print(L)"
   ]
  },
  {
   "cell_type": "code",
   "execution_count": 609,
   "id": "052aa14f-f1a4-4875-8441-1288f38a4d44",
   "metadata": {},
   "outputs": [
    {
     "name": "stdout",
     "output_type": "stream",
     "text": [
      "4\n"
     ]
    }
   ],
   "source": [
    "L.sum_odd()"
   ]
  },
  {
   "cell_type": "markdown",
   "id": "1e669ad6-da3d-4b92-9373-d1aceb377d63",
   "metadata": {
    "jp-MarkdownHeadingCollapsed": true
   },
   "source": [
    "## Doubly Linked List"
   ]
  },
  {
   "cell_type": "code",
   "execution_count": 612,
   "id": "988af5e4-b4ee-4cc3-a57a-5e8d57b1f519",
   "metadata": {},
   "outputs": [
    {
     "name": "stdout",
     "output_type": "stream",
     "text": [
      "List in forward direction:\n",
      "10 <-> 20 <-> 30 <-> None\n",
      "\n",
      "List in reverse direction:\n",
      "30 <-> 20 <-> 10 <-> None\n",
      "\n",
      "Deleting a node (20):\n",
      "10 <-> 30 <-> None\n"
     ]
    }
   ],
   "source": [
    "class Node:\n",
    "    def __init__(self, data):\n",
    "        self.data = data       # Data stored in the node\n",
    "        self.next = None       # Pointer to the next node\n",
    "        self.prev = None       # Pointer to the previous node\n",
    "\n",
    "class DoublyLinkedList:\n",
    "    def __init__(self):\n",
    "        self.head = None       # Head of the list\n",
    "\n",
    "    # Method to add a node at the end\n",
    "    def append(self, data):\n",
    "        new_node = Node(data)\n",
    "        if not self.head:  # If the list is empty\n",
    "            self.head = new_node\n",
    "            return\n",
    "        \n",
    "        # Traverse to the end of the list\n",
    "        current = self.head\n",
    "        while current.next:\n",
    "            current = current.next\n",
    "        \n",
    "        current.next = new_node  # Link the new node to the end\n",
    "        new_node.prev = current  # Link the previous of the new node to current\n",
    "\n",
    "    # Method to print the list in forward direction\n",
    "    def print_forward(self):\n",
    "        current = self.head\n",
    "        while current:\n",
    "            print(current.data, end=\" <-> \")\n",
    "            current = current.next\n",
    "        print(\"None\")\n",
    "\n",
    "    # Method to print the list in reverse direction\n",
    "    def print_reverse(self):\n",
    "        current = self.head\n",
    "        if not current:\n",
    "            print(\"None\")\n",
    "            return\n",
    "        \n",
    "        # Traverse to the last node\n",
    "        while current.next:\n",
    "            current = current.next\n",
    "        \n",
    "        # Traverse backward using prev pointers\n",
    "        while current:\n",
    "            print(current.data, end=\" <-> \")\n",
    "            current = current.prev\n",
    "        print(\"None\")\n",
    "\n",
    "    # Method to delete a node by value\n",
    "    def delete(self, data):\n",
    "        current = self.head\n",
    "        \n",
    "        # If the list is empty\n",
    "        if not current:\n",
    "            print(\"List is empty\")\n",
    "            return\n",
    "        \n",
    "        # If the node to be deleted is the head\n",
    "        if current.data == data:\n",
    "            self.head = current.next\n",
    "            if self.head:\n",
    "                self.head.prev = None\n",
    "            return\n",
    "        \n",
    "        # Traverse the list to find the node\n",
    "        while current and current.data != data:\n",
    "            current = current.next\n",
    "        \n",
    "        # If the node is not found\n",
    "        if not current:\n",
    "            print(\"Node not found\")\n",
    "            return\n",
    "        \n",
    "        # Adjust the links to delete the node\n",
    "        if current.next:\n",
    "            current.next.prev = current.prev\n",
    "        if current.prev:\n",
    "            current.prev.next = current.next\n",
    "\n",
    "# Example usage\n",
    "dll = DoublyLinkedList()\n",
    "dll.append(10)\n",
    "dll.append(20)\n",
    "dll.append(30)\n",
    "\n",
    "print(\"List in forward direction:\")\n",
    "dll.print_forward()\n",
    "\n",
    "print(\"\\nList in reverse direction:\")\n",
    "dll.print_reverse()\n",
    "\n",
    "print(\"\\nDeleting a node (20):\")\n",
    "dll.delete(20)\n",
    "dll.print_forward()\n"
   ]
  },
  {
   "cell_type": "markdown",
   "id": "5be12986-2d85-4c46-9d37-3a19776f7779",
   "metadata": {
    "jp-MarkdownHeadingCollapsed": true
   },
   "source": [
    "## To find middle of linked list"
   ]
  },
  {
   "cell_type": "code",
   "execution_count": 615,
   "id": "ca524846-b6d9-4b47-a87a-f5f53c124d27",
   "metadata": {},
   "outputs": [
    {
     "name": "stdout",
     "output_type": "stream",
     "text": [
      "Middle Element: 3\n"
     ]
    }
   ],
   "source": [
    "class Node:\n",
    "    def __init__(self, data):\n",
    "        self.data = data\n",
    "        self.next = None\n",
    "\n",
    "class LinkedList:\n",
    "    def __init__(self):\n",
    "        self.head = None\n",
    "\n",
    "    def append(self, data):\n",
    "        new_node = Node(data)\n",
    "        if not self.head:\n",
    "            self.head = new_node\n",
    "            return\n",
    "        temp = self.head\n",
    "        while temp.next:\n",
    "            temp = temp.next\n",
    "        temp.next = new_node\n",
    "\n",
    "    def find_middle(self):\n",
    "        slow = self.head\n",
    "        fast = self.head\n",
    "\n",
    "        # Traverse the list\n",
    "        while fast and fast.next:\n",
    "            slow = slow.next  # Move slow pointer one step\n",
    "            fast = fast.next.next  # Move fast pointer two steps\n",
    "\n",
    "        return slow.data  # Slow is at the middle\n",
    "\n",
    "# Example Usage\n",
    "ll = LinkedList()\n",
    "ll.append(1)\n",
    "ll.append(2)\n",
    "ll.append(3)\n",
    "ll.append(4)\n",
    "ll.append(5)\n",
    "\n",
    "print(\"Middle Element:\", ll.find_middle())  # Output: 3\n"
   ]
  },
  {
   "cell_type": "code",
   "execution_count": null,
   "id": "121e1aa9-8a91-452e-8798-f6cdf5941d93",
   "metadata": {},
   "outputs": [],
   "source": [
    "\"\"\"\n",
    "Two-Pointer Approach\n",
    "1]Idea:\n",
    "    -Use two pointers, slow and fast.\n",
    "    -Initially, both pointers point to the head of the list.\n",
    "    -Move slow one step at a time and fast two steps at a time.\n",
    "    -When fast reaches the end of the list, slow will be at the middle.\n",
    "2]Why it works?:\n",
    "    -Since fast moves twice as fast as slow, by the time fast traverses the entire list, slow will have covered half the list.\n",
    "\"\"\""
   ]
  },
  {
   "cell_type": "markdown",
   "id": "62af791d-c644-48d9-8db3-cffd89bd3f2e",
   "metadata": {
    "jp-MarkdownHeadingCollapsed": true
   },
   "source": [
    "## Cricular Linked List"
   ]
  },
  {
   "cell_type": "code",
   "execution_count": 618,
   "id": "2fbe24eb-db03-4b5a-9b5b-c39da72f23c3",
   "metadata": {},
   "outputs": [
    {
     "name": "stdout",
     "output_type": "stream",
     "text": [
      "Circular Linked List:\n",
      "10 -> 20 -> 30 -> (back to head)\n",
      "\n",
      "Deleting a node (20):\n",
      "10 -> 30 -> (back to head)\n",
      "\n",
      "Deleting a node (10):\n",
      "30 -> (back to head)\n"
     ]
    }
   ],
   "source": [
    "class Node:\n",
    "    def __init__(self, data):\n",
    "        self.data = data  # Data stored in the node\n",
    "        self.next = None  # Pointer to the next node\n",
    "\n",
    "class CircularLinkedList:\n",
    "    def __init__(self):\n",
    "        self.head = None  # Reference to the head node\n",
    "\n",
    "    # Method to add a node at the end\n",
    "    def append(self, data):\n",
    "        new_node = Node(data)\n",
    "        if not self.head:  # If the list is empty\n",
    "            self.head = new_node\n",
    "            new_node.next = self.head  # Point the new node to itself\n",
    "            return\n",
    "        \n",
    "        # Traverse to the last node\n",
    "        current = self.head\n",
    "        while current.next != self.head:\n",
    "            current = current.next\n",
    "        \n",
    "        # Add the new node and complete the circle\n",
    "        current.next = new_node\n",
    "        new_node.next = self.head\n",
    "\n",
    "    # Method to print the circular linked list\n",
    "    def print_list(self):\n",
    "        if not self.head:\n",
    "            print(\"List is empty\")\n",
    "            return\n",
    "        \n",
    "        current = self.head\n",
    "        while True:\n",
    "            print(current.data, end=\" -> \")\n",
    "            current = current.next\n",
    "            if current == self.head:  # Stop when the list loops back to the head\n",
    "                break\n",
    "        print(\"(back to head)\")\n",
    "\n",
    "    # Method to delete a node by value\n",
    "    def delete(self, data):\n",
    "        if not self.head:  # If the list is empty\n",
    "            print(\"List is empty\")\n",
    "            return\n",
    "\n",
    "        current = self.head\n",
    "        prev = None\n",
    "        \n",
    "        # If the node to be deleted is the head\n",
    "        if current.data == data:\n",
    "            # Find the last node\n",
    "            while current.next != self.head:\n",
    "                current = current.next\n",
    "            \n",
    "            # If the list has only one node\n",
    "            if current == self.head:\n",
    "                self.head = None\n",
    "            else:\n",
    "                current.next = self.head.next  # Point last node to the next of head\n",
    "                self.head = self.head.next  # Update the head\n",
    "            return\n",
    "        \n",
    "        # Traverse the list to find the node to delete\n",
    "        current = self.head\n",
    "        while current.next != self.head and current.data != data:\n",
    "            prev = current\n",
    "            current = current.next\n",
    "\n",
    "        # If the node is found\n",
    "        if current.data == data:\n",
    "            prev.next = current.next\n",
    "        else:\n",
    "            print(\"Node not found\")\n",
    "\n",
    "# Example usage\n",
    "cll = CircularLinkedList()\n",
    "cll.append(10)\n",
    "cll.append(20)\n",
    "cll.append(30)\n",
    "\n",
    "print(\"Circular Linked List:\")\n",
    "cll.print_list()\n",
    "\n",
    "print(\"\\nDeleting a node (20):\")\n",
    "cll.delete(20)\n",
    "cll.print_list()\n",
    "\n",
    "print(\"\\nDeleting a node (10):\")\n",
    "cll.delete(10)\n",
    "cll.print_list()\n"
   ]
  },
  {
   "cell_type": "markdown",
   "id": "49639e34-33f3-47d2-bdaa-85b398d879cf",
   "metadata": {},
   "source": [
    "## Stack using List/Array"
   ]
  },
  {
   "cell_type": "code",
   "execution_count": 751,
   "id": "b5494ec8-67a2-4a6e-8604-059dac0fd5b0",
   "metadata": {},
   "outputs": [],
   "source": [
    "class stack:\n",
    "    def __init__(self):\n",
    "        self.stack = []\n",
    "\n",
    "    def push(self, value):\n",
    "        self.stack.append(value)\n",
    "        #print(f\"Print pushed item: {value}\")\n",
    "\n",
    "    def pop(self):\n",
    "        if self.is_empty():\n",
    "            print(\"Stack is empty\")\n",
    "            return None\n",
    "        else:\n",
    "            return self.stack.pop()\n",
    "\n",
    "    def is_empty(self):\n",
    "        return len(self.stack) == 0\n",
    "\n",
    "    def peak(self):\n",
    "        if self.is_empty():\n",
    "            print(\"Stack is empty\")\n",
    "            return None\n",
    "        else:\n",
    "            return self.stack[-1]\n",
    "    def view_all(self):\n",
    "        if not self.is_empty():\n",
    "            return self.stack\n",
    "        else:\n",
    "            print(\"Empty stack\")\n",
    "            return []\n",
    "\n",
    "    \n",
    "        \n",
    "    \n",
    "        \n",
    "        \n",
    "\n",
    "            "
   ]
  },
  {
   "cell_type": "code",
   "execution_count": 735,
   "id": "b2d7d7df-8f81-4b22-9506-a4ef679c8a3b",
   "metadata": {},
   "outputs": [],
   "source": [
    "#Function to reverse stack\n",
    "def reverse_stack(stack):\n",
    "        if stack.is_empty():\n",
    "            return \n",
    "        temp = stack.pop()\n",
    "        reverse_stack(stack)\n",
    "        insert_at_bottom(stack, temp)\n",
    "\n",
    "def insert_at_bottom(stack, item):\n",
    "    if stack.is_empty():\n",
    "        stack.push(item)\n",
    "    else:\n",
    "        temp = stack.pop()\n",
    "        insert_at_bottom(stack, item)\n",
    "        stack.push(temp)\n"
   ]
  },
  {
   "cell_type": "code",
   "execution_count": 753,
   "id": "2e4744c7-2772-4320-a9d1-36ccac030719",
   "metadata": {},
   "outputs": [],
   "source": [
    "#function to check parenthesis balence\n",
    "def is_balance(exp):\n",
    "    s = stack()\n",
    "    match_map = {\")\":\"(\", \"}\":\"{\", \"]\":\"[\"}\n",
    "\n",
    "    for char in exp:\n",
    "        if char in match_map.values():\n",
    "            s.push(char)\n",
    "        elif char in match_map.keys():\n",
    "            if s.is_empty() or s.pop() != match_map[char]:\n",
    "                return False\n",
    "    return s.is_empty()"
   ]
  },
  {
   "cell_type": "code",
   "execution_count": 763,
   "id": "a875a5b7-2624-447d-916b-253e2af496eb",
   "metadata": {},
   "outputs": [],
   "source": [
    "#Functon to evaluate postfix\n",
    "def eval_postfix(exp):\n",
    "    s = stack()\n",
    "\n",
    "    for char in exp.split():\n",
    "        if char.isdigit():\n",
    "            s.push(int(char))\n",
    "        else:\n",
    "            opr2 = s.pop()\n",
    "            opr1 = s.pop()\n",
    "            if char == \"+\":\n",
    "                result = opr1 + opr2\n",
    "            elif char == \"-\":\n",
    "                result = opr1 - opr2\n",
    "            elif char == \"*\":\n",
    "                result = opr1 * opr2\n",
    "            elif char == \"/\":\n",
    "                result = opr1 / opr2\n",
    "            s.push(result)\n",
    "    return s.pop()"
   ]
  },
  {
   "cell_type": "code",
   "execution_count": 741,
   "id": "d9871435-6b53-4fd4-8eb8-47bb97b797e2",
   "metadata": {},
   "outputs": [],
   "source": [
    "s = stack()"
   ]
  },
  {
   "cell_type": "code",
   "execution_count": 743,
   "id": "3895c353-4788-4171-a971-03c8420a1993",
   "metadata": {},
   "outputs": [
    {
     "name": "stdout",
     "output_type": "stream",
     "text": [
      "Print pushed item: 5\n"
     ]
    }
   ],
   "source": [
    "s.push(5)"
   ]
  },
  {
   "cell_type": "code",
   "execution_count": 745,
   "id": "6398e08f-775f-442a-a012-64245bccf30f",
   "metadata": {},
   "outputs": [
    {
     "name": "stdout",
     "output_type": "stream",
     "text": [
      "Print pushed item: 4\n",
      "Print pushed item: 7\n",
      "Print pushed item: 12\n",
      "Print pushed item: 1\n"
     ]
    }
   ],
   "source": [
    "s.push(4)\n",
    "s.push(7)\n",
    "s.push(12)\n",
    "s.push(1)"
   ]
  },
  {
   "cell_type": "code",
   "execution_count": 729,
   "id": "1369374d-2631-474b-ab53-f3271f1d223f",
   "metadata": {},
   "outputs": [
    {
     "data": {
      "text/plain": [
       "[5, 4, 7, 12, 1]"
      ]
     },
     "execution_count": 729,
     "metadata": {},
     "output_type": "execute_result"
    }
   ],
   "source": [
    "s.view_all()"
   ]
  },
  {
   "cell_type": "code",
   "execution_count": 731,
   "id": "ac152dea-35c1-4c0e-be2b-c53788338c1f",
   "metadata": {},
   "outputs": [
    {
     "name": "stdout",
     "output_type": "stream",
     "text": [
      "Print pushed item: 5\n",
      "Print pushed item: 4\n",
      "Print pushed item: 5\n",
      "Print pushed item: 7\n",
      "Print pushed item: 4\n",
      "Print pushed item: 5\n",
      "Print pushed item: 12\n",
      "Print pushed item: 7\n",
      "Print pushed item: 4\n",
      "Print pushed item: 5\n",
      "Print pushed item: 1\n",
      "Print pushed item: 12\n",
      "Print pushed item: 7\n",
      "Print pushed item: 4\n",
      "Print pushed item: 5\n"
     ]
    }
   ],
   "source": [
    "reverse_stack(s)"
   ]
  },
  {
   "cell_type": "code",
   "execution_count": 747,
   "id": "4993f5af-bbfc-41a3-acbd-13291cff9e63",
   "metadata": {},
   "outputs": [
    {
     "data": {
      "text/plain": [
       "[5, 4, 7, 12, 1]"
      ]
     },
     "execution_count": 747,
     "metadata": {},
     "output_type": "execute_result"
    }
   ],
   "source": [
    "s.view_all()"
   ]
  },
  {
   "cell_type": "code",
   "execution_count": 755,
   "id": "453bd65a-9bb8-4db9-a784-b5675f661a41",
   "metadata": {},
   "outputs": [
    {
     "data": {
      "text/plain": [
       "True"
      ]
     },
     "execution_count": 755,
     "metadata": {},
     "output_type": "execute_result"
    }
   ],
   "source": [
    "is_balance(\"({[]})\")"
   ]
  },
  {
   "cell_type": "code",
   "execution_count": 761,
   "id": "97e18c9b-2fe5-4720-b1fa-12eca19fbf5b",
   "metadata": {},
   "outputs": [
    {
     "data": {
      "text/plain": [
       "False"
      ]
     },
     "execution_count": 761,
     "metadata": {},
     "output_type": "execute_result"
    }
   ],
   "source": [
    "is_balance(\"({[})\")"
   ]
  },
  {
   "cell_type": "code",
   "execution_count": 771,
   "id": "40975921-52eb-46b5-ba14-416a62e37fe0",
   "metadata": {},
   "outputs": [
    {
     "data": {
      "text/plain": [
       "9"
      ]
     },
     "execution_count": 771,
     "metadata": {},
     "output_type": "execute_result"
    }
   ],
   "source": [
    "eval_postfix(\"4 5 +\")"
   ]
  },
  {
   "cell_type": "markdown",
   "id": "a047771f-2f5f-4cd0-9077-0e87c81f95e6",
   "metadata": {
    "jp-MarkdownHeadingCollapsed": true
   },
   "source": [
    "## Queue"
   ]
  },
  {
   "cell_type": "code",
   "execution_count": 836,
   "id": "aeaf177a-3ca3-427c-818a-9f223e7b02a2",
   "metadata": {},
   "outputs": [],
   "source": [
    "class queue:\n",
    "    def __init__(self):\n",
    "        self.queue = []\n",
    "\n",
    "    def enqueue(self, value):\n",
    "        self.queue.append(value)\n",
    "\n",
    "    def dequeue(self):\n",
    "        if not self.is_empty():\n",
    "            return self.queue.pop(0)\n",
    "        else:\n",
    "            return \"Queue is Empty\"\n",
    "\n",
    "    def front(self):\n",
    "        if not self.is_empty():\n",
    "            return self.queue[0]\n",
    "        else:\n",
    "            return \"Queue is Empty\"\n",
    "\n",
    "    def rear(self):\n",
    "        if not self.is_empty():\n",
    "            return self.queue[-1]\n",
    "        else:\n",
    "            return \"Queue is Empty\"\n",
    "\n",
    "    def is_empty(self):\n",
    "        return len(self.queue) == 0\n",
    "\n",
    "    def view(self):\n",
    "        if not self.is_empty():\n",
    "            return self.queue\n",
    "        else:\n",
    "            return \"Queue is Empty\"\n",
    "\n",
    "    def delete(self):\n",
    "        self.queue.clear()\n",
    "        return \"Queue is deleted\"\n",
    "\n",
    "    def size(self):\n",
    "        return len(self.queue)\n",
    "\n",
    "    def peak(self, index):\n",
    "        if index < len(self.queue):\n",
    "            return self.queue[index]\n",
    "        else:\n",
    "            \"Doesnt Exist\"\n",
    "        "
   ]
  },
  {
   "cell_type": "code",
   "execution_count": 838,
   "id": "9ae45291-59aa-4c43-a74d-dc1a929470f9",
   "metadata": {},
   "outputs": [],
   "source": [
    "q = queue()"
   ]
  },
  {
   "cell_type": "code",
   "execution_count": 840,
   "id": "0f9564f4-2861-4893-aea7-33f7317b11f1",
   "metadata": {},
   "outputs": [],
   "source": [
    "q.enqueue(1)\n",
    "q.enqueue(5)\n",
    "q.enqueue(7)\n",
    "q.enqueue(6)\n",
    "q.enqueue(3)"
   ]
  },
  {
   "cell_type": "code",
   "execution_count": 842,
   "id": "025a2c59-15f2-4089-a921-b1f6a12a22f0",
   "metadata": {},
   "outputs": [
    {
     "data": {
      "text/plain": [
       "[1, 5, 7, 6, 3]"
      ]
     },
     "execution_count": 842,
     "metadata": {},
     "output_type": "execute_result"
    }
   ],
   "source": [
    "q.view()"
   ]
  },
  {
   "cell_type": "code",
   "execution_count": 832,
   "id": "05b0f47d-01f8-4f21-a4c8-9b0fb39b84eb",
   "metadata": {},
   "outputs": [
    {
     "data": {
      "text/plain": [
       "5"
      ]
     },
     "execution_count": 832,
     "metadata": {},
     "output_type": "execute_result"
    }
   ],
   "source": [
    "q.size()"
   ]
  },
  {
   "cell_type": "code",
   "execution_count": 846,
   "id": "f163d689-6df3-4cd4-b829-983d060abf30",
   "metadata": {},
   "outputs": [
    {
     "data": {
      "text/plain": [
       "3"
      ]
     },
     "execution_count": 846,
     "metadata": {},
     "output_type": "execute_result"
    }
   ],
   "source": [
    "q.peak(4)"
   ]
  },
  {
   "cell_type": "code",
   "execution_count": 812,
   "id": "01d39a18-d2ff-4628-9f50-043b804f7991",
   "metadata": {},
   "outputs": [
    {
     "data": {
      "text/plain": [
       "1"
      ]
     },
     "execution_count": 812,
     "metadata": {},
     "output_type": "execute_result"
    }
   ],
   "source": [
    "q.front()"
   ]
  },
  {
   "cell_type": "code",
   "execution_count": 814,
   "id": "f05944cc-8951-48c8-bef7-ec077a769e77",
   "metadata": {},
   "outputs": [
    {
     "data": {
      "text/plain": [
       "3"
      ]
     },
     "execution_count": 814,
     "metadata": {},
     "output_type": "execute_result"
    }
   ],
   "source": [
    "q.rear()"
   ]
  },
  {
   "cell_type": "code",
   "execution_count": 816,
   "id": "95c6d0f9-969d-4ac5-8c9b-93faa209761d",
   "metadata": {},
   "outputs": [
    {
     "data": {
      "text/plain": [
       "1"
      ]
     },
     "execution_count": 816,
     "metadata": {},
     "output_type": "execute_result"
    }
   ],
   "source": [
    "q.dequeue()"
   ]
  },
  {
   "cell_type": "code",
   "execution_count": 818,
   "id": "e769b02b-c040-4208-9c24-0d29916455d6",
   "metadata": {},
   "outputs": [
    {
     "data": {
      "text/plain": [
       "[5, 7, 6, 3]"
      ]
     },
     "execution_count": 818,
     "metadata": {},
     "output_type": "execute_result"
    }
   ],
   "source": [
    "q.view()"
   ]
  },
  {
   "cell_type": "code",
   "execution_count": 820,
   "id": "cd3e85dc-74d2-4b1b-b3c0-48438989ff7a",
   "metadata": {},
   "outputs": [
    {
     "data": {
      "text/plain": [
       "'Queue is deleted'"
      ]
     },
     "execution_count": 820,
     "metadata": {},
     "output_type": "execute_result"
    }
   ],
   "source": [
    "q.delete()"
   ]
  },
  {
   "cell_type": "code",
   "execution_count": 822,
   "id": "ac1962d7-3ee4-484d-a2d9-97979c180842",
   "metadata": {},
   "outputs": [
    {
     "data": {
      "text/plain": [
       "'Queue is Empty'"
      ]
     },
     "execution_count": 822,
     "metadata": {},
     "output_type": "execute_result"
    }
   ],
   "source": [
    "q.front()"
   ]
  },
  {
   "cell_type": "code",
   "execution_count": null,
   "id": "7c22a08e-b189-4b2b-9f79-aa3501c84c1e",
   "metadata": {},
   "outputs": [],
   "source": []
  }
 ],
 "metadata": {
  "kernelspec": {
   "display_name": "Python 3 (ipykernel)",
   "language": "python",
   "name": "python3"
  },
  "language_info": {
   "codemirror_mode": {
    "name": "ipython",
    "version": 3
   },
   "file_extension": ".py",
   "mimetype": "text/x-python",
   "name": "python",
   "nbconvert_exporter": "python",
   "pygments_lexer": "ipython3",
   "version": "3.11.7"
  }
 },
 "nbformat": 4,
 "nbformat_minor": 5
}
